{
 "cells": [
  {
   "cell_type": "markdown",
   "metadata": {},
   "source": [
    "# CX 4230, Spring 2016: [09] Cellular Automata\n",
    "\n",
    "The following exercises accompany the class slides on Wolfram's 1-D nearest neighbor cellular automata model. You can download a copy of those slides here: [PDF (0.7 MiB)](https://t-square.gatech.edu/access/content/group/gtc-59b8-dc03-5a67-a5f4-88b8e4d5b69a/cx4230-sp16--09-cellular-automata.pdf)"
   ]
  },
  {
   "cell_type": "markdown",
   "metadata": {},
   "source": [
    "## Setup"
   ]
  },
  {
   "cell_type": "code",
   "execution_count": null,
   "metadata": {
    "collapsed": false
   },
   "outputs": [],
   "source": [
    "import numpy as np\n",
    "import scipy as sp\n",
    "import scipy.sparse"
   ]
  },
  {
   "cell_type": "code",
   "execution_count": null,
   "metadata": {
    "collapsed": true
   },
   "outputs": [],
   "source": [
    "import matplotlib.pyplot as plt # Core plotting support\n",
    "%matplotlib inline\n",
    "\n",
    "def show_grid (grid):\n",
    "    plt.matshow (grid)"
   ]
  },
  {
   "cell_type": "markdown",
   "metadata": {},
   "source": [
    "## Wolfram's 1-D near-neighbor CA"
   ]
  },
  {
   "cell_type": "markdown",
   "metadata": {},
   "source": [
    "Let's evolve a 1-D region of length `N` over `T` time steps.\n",
    "\n",
    "Start by creating a 2-D Numpy array (or _matrix_) `X[0:N, 0:T]`, which will eventually hold the sequence of all state changes over time. Our convention will be to store either a `0` or a `1` value in every cell."
   ]
  },
  {
   "cell_type": "code",
   "execution_count": null,
   "metadata": {
    "collapsed": true
   },
   "outputs": [],
   "source": [
    "N = 10\n",
    "T = 20\n",
    "\n",
    "X = np.zeros ((N, T), dtype=int)  # X[i, t] == cell i at time t"
   ]
  },
  {
   "cell_type": "markdown",
   "metadata": {},
   "source": [
    "As the initial state of the 1-D system, let's put a single `1` bit at or close to the center."
   ]
  },
  {
   "cell_type": "code",
   "execution_count": null,
   "metadata": {
    "collapsed": false
   },
   "outputs": [],
   "source": [
    "# Initial conditions\n",
    "i_center = int (X.shape[0]/2)\n",
    "X[i_center, 0] = 1\n",
    "show_grid (X.transpose ())"
   ]
  },
  {
   "cell_type": "markdown",
   "metadata": {},
   "source": [
    "## Sparse matrices"
   ]
  },
  {
   "cell_type": "markdown",
   "metadata": {},
   "source": [
    "Suppose you are given a 1-D neighborhood as a 3-bit pattern, `011`$_2$. This value is the binary representation of the decimal value, $(2^2 \\cdot 0) + (2^1 \\cdot 1) + (2^0 \\cdot 1) = 3$. More generally, given a 3-bit string, $b_2b_1b_0$, let its _neighborhood index_ be the decimal integer $k$ such that\n",
    "\n",
    "$$\n",
    "  k \\equiv (4 \\cdot b_2) + (2 \\cdot b_1) + (1 \\cdot b_0).\n",
    "$$\n",
    "\n",
    "Given one of Wolfram's rules, you could then build a lookup table to convert every possible neighborhood index into the corresponding `0` or `1` state."
   ]
  },
  {
   "cell_type": "markdown",
   "metadata": {},
   "source": [
    "To implement this idea, try this notional trick from linear algebra. Let $\\vec{x}$ denote the 1-D grid of $n$ cells, represented as a _vector_ of $n$ bits,\n",
    "\n",
    "$$\\begin{eqnarray}\n",
    "  \\vec{x}\n",
    "    & = &\n",
    "      \\left(\\begin{array}{c}\n",
    "        x_0 \\\\\n",
    "        x_1 \\\\\n",
    "        \\vdots \\\\\n",
    "        x_{n-1}\n",
    "      \\end{array}\\right).\n",
    "\\end{eqnarray}$$"
   ]
  },
  {
   "cell_type": "markdown",
   "metadata": {},
   "source": [
    "From this vector, you can enumerate all neighborhood indices using a _(sparse) matrix-vector product_. Let $k_i$ denote the neighborhood index of cell (bit) $x_i$. Then,\n",
    "\n",
    "$$\\begin{eqnarray}\n",
    "  k_0 & = & 2 x_0 + x_1 \\\\\n",
    "  k_1 & = & 4 x_0 + 2 x_1 + x_2 \\\\\n",
    "  k_2 & = & 4 x_1 + 2 x_2 + x_3 \\\\\n",
    "      & \\vdots & \\\\\n",
    "  k_i & = & 4 x_{i-1} + 2 x_i + x_{i+1} \\\\\n",
    "      & \\vdots & \\\\\n",
    "  k_{n-2} & = & 4 x_{n-3} + 2 x_{n-2} + x_{n-1} \\\\\n",
    "  k_{n-1} & = & 4 x_{n-2} + 2 x_{n-1}\n",
    "\\end{eqnarray}$$\n",
    "\n",
    "This system of equations can be written in matrix form as $\\vec{k} \\equiv A \\cdot \\vec{x}$, where\n",
    "\n",
    "$$\n",
    "\\vec{k} \\equiv \\left(\\begin{array}{c}\n",
    "                 k_0 \\\\\n",
    "                 k_1 \\\\\n",
    "                 k_2 \\\\\n",
    "                 \\vdots \\\\\n",
    "                 k_i \\\\\n",
    "                 \\vdots \\\\\n",
    "                 k_{n-2} \\\\\n",
    "                 k_{n-1}\n",
    "               \\end{array}\\right)\n",
    "=\n",
    "  \\underbrace{\\left(\\begin{array}{cccccccc}\n",
    "    2 & 1 &   &        &   &        &   & \\\\\n",
    "    4 & 2 & 1 &        &   &        &   & \\\\\n",
    "      & 4 & 2 & 1      &   &        &   & \\\\\n",
    "      &   &   & \\ddots &   &        &   & \\\\\n",
    "      &   &   &    4   & 2 & 1      &   & \\\\\n",
    "      &   &   &        &   & \\ddots &   & \\\\\n",
    "      &   &   &        &   &    4   & 2 & 1 \\\\\n",
    "      &   &   &        &   &        & 4 & 2\n",
    "  \\end{array}\\right)}_{\\equiv A}\n",
    "\\cdot\n",
    "  \\underbrace{\\left(\\begin{array}{c}\n",
    "                 x_0 \\\\\n",
    "                 x_1 \\\\\n",
    "                 x_2 \\\\\n",
    "                 \\vdots \\\\\n",
    "                 x_i \\\\\n",
    "                 \\vdots \\\\\n",
    "                 x_{n-2} \\\\\n",
    "                 x_{n-1}\n",
    "               \\end{array}\\right)}_{= \\vec{x}}.\n",
    "$$\n",
    "\n",
    "The matrix $A$ is _sparse_ because it is mostly zero.\n",
    "\n",
    "> Sparsity does not have a precise formal definition. However, one typically expects that the number of non-zeros in $n \\times n$ sparse matrix $A$ is $\\mathrm{nnz}(A) = \\mathcal{O}(n)$.\n",
    "\n",
    "In fact, $A$ has a more specific structure: it is _tridiagonal_, meaning that all of its non-zero entries are contained in the diagonal of $A$ plus the first sub- and super-diagonals."
   ]
  },
  {
   "cell_type": "markdown",
   "metadata": {},
   "source": [
    "Numpy and Scipy, Numpy's \"parent\" library, have an especially handy function, `scipy.sparse.diags()`, which can easily construct sparse matrices consisting only of diagonals:  http://docs.scipy.org/doc/scipy/reference/generated/scipy.sparse.diags.html#scipy.sparse.diags\n",
    "\n",
    "Here is a one-line statement to construct a sparse matrix $A$ as the variable `A`, which references a sparse matrix object."
   ]
  },
  {
   "cell_type": "code",
   "execution_count": null,
   "metadata": {
    "collapsed": false
   },
   "outputs": [],
   "source": [
    "A = sp.sparse.diags ([4, 2, 1], [-1, 0, 1], shape=(N, N), dtype=int)"
   ]
  },
  {
   "cell_type": "code",
   "execution_count": null,
   "metadata": {
    "collapsed": false
   },
   "outputs": [],
   "source": [
    "print (\"=== A (sparse) ===\", A, sep=\"\\n\")"
   ]
  },
  {
   "cell_type": "code",
   "execution_count": null,
   "metadata": {
    "collapsed": false
   },
   "outputs": [],
   "source": [
    "print (\"=== A (dense) ===\", A.toarray (), sep=\"\\n\")"
   ]
  },
  {
   "cell_type": "markdown",
   "metadata": {},
   "source": [
    "As a sanity check, let's multiply $A$ by the initial 1-D grid. Denote this initial grid mathematically as $\\vec{x}(t=0)$, which is just the first column of the array `X`, i.e., `X[:, 0]`."
   ]
  },
  {
   "cell_type": "markdown",
   "metadata": {},
   "source": [
    "**Exercise.** Compute $\\vec{k}(0) \\leftarrow A \\cdot \\vec{x}(0)$ by hand."
   ]
  },
  {
   "cell_type": "code",
   "execution_count": null,
   "metadata": {
    "collapsed": false
   },
   "outputs": [],
   "source": [
    "print (X[:, 0])"
   ]
  },
  {
   "cell_type": "markdown",
   "metadata": {},
   "source": [
    "> Answer: `[?, ?, ?, ?, ?, ?, ?, ?, ?, ?]`"
   ]
  },
  {
   "cell_type": "markdown",
   "metadata": {},
   "source": [
    "Let's check your answer using the Python code below to compute $\\vec{k}(0)$. It uses the `A` object's `dot()` member function."
   ]
  },
  {
   "cell_type": "code",
   "execution_count": null,
   "metadata": {
    "collapsed": false
   },
   "outputs": [],
   "source": [
    "K0 = A.dot (X[:, 0])\n",
    "print (X[:, 0])\n",
    "print (K0)"
   ]
  },
  {
   "cell_type": "markdown",
   "metadata": {},
   "source": [
    "**Exercise.** Recall that the rule number is an integer between 0 and 255, inclusive. Its bit pattern determines which neighborhood patterns map to which states. Complete the following function: given a rule number, it should build and return a lookup table, `bits[:]`, that maps a neighborhood index `k` in `[0, 8)` to the output bit `bits[k]`."
   ]
  },
  {
   "cell_type": "code",
   "execution_count": null,
   "metadata": {
    "collapsed": false
   },
   "outputs": [],
   "source": [
    "def gen_rule_bits (rule_num):\n",
    "    \"\"\"\n",
    "    Computes a bit lookup table for one of Wolfram's 1-D\n",
    "    cellular automata (CA), given a rule number.\n",
    "    \n",
    "    That is, let `k` be an integer in [0, 8) corresponding\n",
    "    to a 3-bit neighborhood pattern. Then this function\n",
    "    returns a 1-D lookup table `bits[:]` such that\n",
    "    `bits[k]` is either a 0 or 1, according to the output\n",
    "    of a CA for rule number `rule_num`.\n",
    "    \"\"\"\n",
    "    assert (0 <= rule_num < 256)\n",
    "    \n",
    "    # Initialize output array\n",
    "    bits = np.zeros (8, dtype=int)\n",
    "    \n",
    "    # @YOUSE: Compute `bits[:]`\n",
    "    assert (False)\n",
    "        \n",
    "    return bits"
   ]
  },
  {
   "cell_type": "code",
   "execution_count": null,
   "metadata": {
    "collapsed": false
   },
   "outputs": [],
   "source": [
    "# Test code:\n",
    "def rev (x):\n",
    "    return list (reversed (x))\n",
    "\n",
    "assert all (gen_rule_bits (90) == rev ([0, 1, 0, 1, 1, 0, 1, 0]))\n",
    "assert all (gen_rule_bits (150) == rev ([1, 0, 0, 1, 0, 1, 1, 0]))"
   ]
  },
  {
   "cell_type": "markdown",
   "metadata": {},
   "source": [
    "**Exercise.** Write some code to compute the state at time 1, `X[:, 1]`."
   ]
  },
  {
   "cell_type": "code",
   "execution_count": null,
   "metadata": {
    "collapsed": false
   },
   "outputs": [],
   "source": [
    "RULE = 90\n",
    "RULE_BITS = gen_rule_bits (RULE)\n",
    "\n",
    "# @YOUSE: Complete this code:\n",
    "K0 = A.dot (X[:, 0])\n",
    "X[:, 1] = ...\n",
    "\n",
    "# Code to test your implementation:\n",
    "print (\"Rule:\", RULE, \"==>\", rev (RULE_BITS))\n",
    "print (\"x(0):\", X[:, 0])\n",
    "print (\"k(0):\", K0)\n",
    "print (\"==>\\nx(1):\", X[:, 1])"
   ]
  },
  {
   "cell_type": "markdown",
   "metadata": {},
   "source": [
    "**Exercise.** Complete the following function, which runs a 1-D `n`-cell CA for `t_max` time steps, given an initial state `x0` and a rule number `rule_num`."
   ]
  },
  {
   "cell_type": "code",
   "execution_count": null,
   "metadata": {
    "collapsed": true
   },
   "outputs": [],
   "source": [
    "def run_ca (rule_num, n, t_max, x0=None):\n",
    "    bits = gen_rule_bits (rule_num)\n",
    "    cells = np.zeros ((n, t_max), dtype=int)\n",
    "    \n",
    "    # Initial condition (default: centered impulse)\n",
    "    if not x0:\n",
    "        cells[int (n/2), 0] = 1\n",
    "    else:\n",
    "        cells[:, 0] = x0\n",
    "        \n",
    "    cells2idx = sp.sparse.diags ([4, 2, 1], [-1, 0, 1], \\\n",
    "                                 shape=(n, n), dtype=int)\n",
    "    \n",
    "    for t in range (1, t_max):\n",
    "        # @YOUSE: Complete this loop body\n",
    "        assert (False)\n",
    "        \n",
    "    return cells"
   ]
  },
  {
   "cell_type": "markdown",
   "metadata": {},
   "source": [
    "Check your results against these patterns: https://commons.wikimedia.org/wiki/Elementary_cellular_automata"
   ]
  },
  {
   "cell_type": "code",
   "execution_count": null,
   "metadata": {
    "collapsed": false
   },
   "outputs": [],
   "source": [
    "# Some test code:\n",
    "def irun_ca (rule_num=90, n=100, t_max=100):\n",
    "    show_grid (run_ca (rule_num, n, t_max).transpose ())\n",
    "    \n",
    "irun_ca (90) # Try 90, 169, and 37"
   ]
  },
  {
   "cell_type": "code",
   "execution_count": null,
   "metadata": {
    "collapsed": true
   },
   "outputs": [],
   "source": [
    "from ipywidgets import interact"
   ]
  },
  {
   "cell_type": "code",
   "execution_count": null,
   "metadata": {
    "collapsed": true
   },
   "outputs": [],
   "source": [
    "interact (irun_ca\n",
    "          , rule_num=(0, 256, 1)\n",
    "          , n=(10, 100, 10)\n",
    "          , t_max=(10, 100, 10))"
   ]
  }
 ],
 "metadata": {
  "kernelspec": {
   "display_name": "Python 3",
   "language": "python",
   "name": "python3"
  },
  "language_info": {
   "codemirror_mode": {
    "name": "ipython",
    "version": 3
   },
   "file_extension": ".py",
   "mimetype": "text/x-python",
   "name": "python",
   "nbconvert_exporter": "python",
   "pygments_lexer": "ipython3",
   "version": "3.5.1"
  }
 },
 "nbformat": 4,
 "nbformat_minor": 0
}
