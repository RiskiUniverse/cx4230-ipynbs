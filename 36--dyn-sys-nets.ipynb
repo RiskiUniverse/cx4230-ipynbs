{
 "cells": [
  {
   "cell_type": "markdown",
   "metadata": {},
   "source": [
    "# CX 4230, Spring 2016: [36] Dynamical systems on networks\n",
    "\n",
    "This lab accompanies the slides from the last class: https://t-square.gatech.edu/access/content/group/gtc-59b8-dc03-5a67-a5f4-88b8e4d5b69a/cx4230-sp16--34--dyn-sys-nets.pdf"
   ]
  },
  {
   "cell_type": "markdown",
   "metadata": {},
   "source": [
    "## A conceptual model of \"opinion dynamics\"\n",
    "\n",
    "To illustrate the interesting dynamics possible on a network, we'll look at an example considered by [Pluchino et al. (2005)](http://arxiv.org/abs/cond-mat/0410217v2). They were interested in the following question about a network of interacting agents:\n",
    "\n",
    "> Can agents with different intitial states converge to one or a few uniform states?\n",
    "\n",
    "They were especially interested in a social network of people where the \"states\" are differing opinions: if everyone has a different opinion initally, can they still reach agreement? They were inspired by biological systems, like [synchronizing fireflies](https://www.youtube.com/watch?v=a-Vy7NZTGos). For more fun background on this topic, see this TED talk by Steven Strogatz: https://www.youtube.com/watch?v=aSNrKS-sCE0"
   ]
  },
  {
   "cell_type": "markdown",
   "metadata": {},
   "source": [
    "In Pluchino et al.'s mathematical model, they considered $x_i \\equiv x_i(t) \\in \\mathcal{R}$ to be some measure of the \"opinion\" of person $i$. It can be positive or negative, and it can take any value in $(\\infty, \\infty)$. These people are connected in a social network, represented as an undirected graph given by its adjacency matrix, $A \\equiv (a_{ij})$, where $a_{ij} = 1$ if persons $i$ and $j$ are connected, and 0 otherwise.\n",
    "\n",
    "They hypothesized a model of the dynamics of $x_i(t)$ by the system of ODEs,\n",
    "\n",
    "$$\\dfrac{dx_i}{dt} \\equiv f_i(\\vec{x}) \\equiv w_i + \\dfrac{K}{d_i} \\sum_j a_{ij} \\cdot \\sin \\theta_{ij} \\cdot \\exp \\left( -\\alpha \\cdot \\theta_{ij}^2 \\right),$$\n",
    "\n",
    "where $K$ and $\\alpha$ are model parameters, $d_i$ is the degree (number of neighbors) of $i$, and $\\theta_{ij} \\equiv x_j - x_i$, that is, the difference between the opinions of person $i$ and $j$. This formula expresses several modeling ideas."
   ]
  },
  {
   "cell_type": "markdown",
   "metadata": {},
   "source": [
    "One idea is that there is a person-specific rate of change, $w_i$. They took $w_i$ in a population to be randomly distributed; in this notebook, let's assume a normal distribution with some prescribed variance $\\sigma^2$, so that $w_i \\sim \\mathcal{N}(0, \\sigma^2)$."
   ]
  },
  {
   "cell_type": "markdown",
   "metadata": {},
   "source": [
    "The other ideas are about how the interaction between a pair $(i, j)$ of _connected_ people (i.e., $a_{ij} = 1$), expressed relative to their difference, $\\theta_{ij}$. Consider small positive values of $theta_{ij}$, meaning person $j$ feels a little more positively than person $i$; then $\\sin \\theta_{ij}$ will be positive and thus influencing the change in person $i$'s opinion to be more positive. Then, at a certain point ($\\theta_{ij} = \\pi$), the two differ by enough that they start to polarize ($\\sin \\theta_{ij} < 0$). These oscillations continue for still larger $\\theta_{ij}$. However, the oscillatory behavior is moderated by the difference, as expressed in the $\\exp \\left( -\\alpha \\cdot \\theta_{ij}^2 \\right)$ term: the farther the difference the less the influence. The interactions are summed across all neighbors $j$. Lastly, there is a final normalizing factor consisting of a parameter $K$ and normalization by the number of neighbors, or degree, $d_i$."
   ]
  },
  {
   "cell_type": "markdown",
   "metadata": {},
   "source": [
    "Lastly, observe that the $a_{ij}$ in the sum acts as a filter, including contributions only from $\\theta_{ij}$ where $a_{ij} \\neq 0$. Let's use this fact to simplify the notation of the system accordingly. Let\n",
    "\n",
    "* $\\vec{w} \\equiv (w_i)$ be the vector of person-specific change rates;\n",
    "* $D \\equiv \\mbox{diag}(d_i)$ be the _diagonal_ matrix of degrees;\n",
    "* $\\Theta \\equiv (\\theta_{ij})$ be the matrix of all pairwise differences;\n",
    "* $A \\odot B$ denote elementwise multiplication of matrices $A$ and $B$; and\n",
    "* $\\vec{u} \\equiv (1, ..., 1)^T$ be the vector of all ones.\n",
    "\n",
    "The the (sparse) matrix of _filtered_ pairwise differences is $\\hat{\\Theta} \\equiv A \\odot \\Theta$.\n",
    "\n",
    "Now the entire system of ODEs can be written as,\n",
    "\n",
    "$$\n",
    "  \\dfrac{d\\vec{x}}{dt} = \\vec{f}(\\vec{x}) = \\vec{w} + K D^{-1} \\cdot \\sin (\\hat{\\Theta}) \\cdot \\exp (-\\alpha \\cdot \\hat{\\Theta} \\odot \\hat{\\Theta}) \\cdot \\vec{u}.\n",
    "$$"
   ]
  },
  {
   "cell_type": "markdown",
   "metadata": {},
   "source": [
    "## Implementing the model: Preliminaries"
   ]
  },
  {
   "cell_type": "code",
   "execution_count": null,
   "metadata": {
    "collapsed": true
   },
   "outputs": [],
   "source": [
    "import numpy as np\n",
    "import scipy as sp\n",
    "import scipy.sparse\n",
    "from scipy.integrate import odeint\n",
    "import math"
   ]
  },
  {
   "cell_type": "code",
   "execution_count": null,
   "metadata": {
    "collapsed": true
   },
   "outputs": [],
   "source": [
    "# Core plotting support\n",
    "import matplotlib.pyplot as plt\n",
    "%matplotlib inline"
   ]
  },
  {
   "cell_type": "markdown",
   "metadata": {},
   "source": [
    "For simplicity, let's assume a 2-D grid graph, that is, the graph that is an $n \\times n$ lattice of nodes, where each node is connected to its 8 nearest neighbors. The following code cell downloads a handy module that helps construct the matrix $A$ corresponding to this graph."
   ]
  },
  {
   "cell_type": "code",
   "execution_count": null,
   "metadata": {
    "collapsed": false
   },
   "outputs": [],
   "source": [
    "import os ; os.makedirs ('cx4230', exist_ok=True)\n",
    "\n",
    "# http://stackoverflow.com/questions/7243750/download-file-from-web-in-python-3\n",
    "import urllib.request\n",
    "MOD_URL = 'https://github.com/rvuduc/cx4230-ipynbs/raw/master/cx4230/pyamg_stencil.py'\n",
    "MOD_LOCAL = 'cx4230/pyamg_stencil.py'\n",
    "urllib.request.urlretrieve (MOD_URL, MOD_LOCAL)\n",
    "\n",
    "%reload_ext autoreload\n",
    "%autoreload 2\n",
    "\n",
    "from cx4230 import pyamg_stencil\n",
    "from cx4230.pyamg_stencil import stencil_grid"
   ]
  },
  {
   "cell_type": "code",
   "execution_count": null,
   "metadata": {
    "collapsed": false
   },
   "outputs": [],
   "source": [
    "# Demo\n",
    "def gen_grid_graph (n):\n",
    "    S_2d_8nn = np.array ([[1, 1, 1],\n",
    "                          [1, 0, 1],\n",
    "                          [1, 1, 1]])\n",
    "    return stencil_grid (S_2d_8nn, (n, n)).tocsr ()\n",
    "\n",
    "n = 4\n",
    "A_2d = gen_grid_graph (n)\n",
    "\n",
    "print (A_2d.shape)\n",
    "print (A_2d.todense ())"
   ]
  },
  {
   "cell_type": "markdown",
   "metadata": {},
   "source": [
    "Given an arbitrary binary adjacency matrix for an undirected graph, the following function computes the degree of each node."
   ]
  },
  {
   "cell_type": "code",
   "execution_count": null,
   "metadata": {
    "collapsed": false
   },
   "outputs": [],
   "source": [
    "def degrees (A):\n",
    "    return np.squeeze (np.asarray (sum (A).todense ()))\n",
    "\n",
    "# Demo\n",
    "np.reshape (degrees (A_2d), (n, n))"
   ]
  },
  {
   "cell_type": "markdown",
   "metadata": {},
   "source": [
    "**Exercise.** Write a Python function that, given\n",
    "\n",
    "* a vector `x[:]` of state values, $\\vec{x} \\equiv (x_i)$; and\n",
    "* a matrix `A[:, :]`, which is the adjacency matrix $A \\equiv (a_{ij})$ for an undirected graph stored as a [sparse matrix](http://docs.scipy.org/doc/scipy/reference/sparse.html);\n",
    "\n",
    "write a function that returns the matrix $\\hat{\\Theta} \\equiv (a_{ij} \\cdot (x_j - x_i))$ of differences, also stored as a _sparse matrix_."
   ]
  },
  {
   "cell_type": "code",
   "execution_count": null,
   "metadata": {
    "collapsed": false
   },
   "outputs": [],
   "source": [
    "def calc_sparse_diff_pairs (x, A):\n",
    "    # @YOUSE: Fill in this function\n",
    "    assert (False)\n",
    "\n",
    "# Demo\n",
    "np.set_printoptions (linewidth=100)\n",
    "calc_sparse_diff_pairs (np.arange (25), A_2d).todense ()"
   ]
  },
  {
   "cell_type": "markdown",
   "metadata": {},
   "source": [
    "Given the preceding function, we can implement the right-hand side of the model, $\\vec{f} \\equiv (f_i(\\vec{x}))$:\n",
    "\n",
    "$$\n",
    "  \\dfrac{d\\vec{x}}{dt} = \\vec{f}(\\vec{x}) = \\vec{w} + K D^{-1} \\cdot \\sin (\\hat{\\Theta}) \\cdot \\exp (-\\alpha \\cdot \\hat{\\Theta} \\odot \\hat{\\Theta}) \\cdot \\vec{u}.\n",
    "$$"
   ]
  },
  {
   "cell_type": "code",
   "execution_count": null,
   "metadata": {
    "collapsed": false
   },
   "outputs": [],
   "source": [
    "def F (x, A, w, k, alpha):\n",
    "    d = degrees (A)\n",
    "    Theta_hat = calc_sparse_diff_pairs (x, A)\n",
    "\n",
    "    I, J = np.nonzero (A)\n",
    "    V = Theta_hat[I, J] # non-zero values of Theta_hat\n",
    "    \n",
    "    V_S = np.sin (V)\n",
    "    V_E = np.exp (-alpha * np.multiply (V, V))\n",
    "    V = np.multiply (V_S, V_E)\n",
    "    V = np.squeeze (np.asarray (V))\n",
    "    S = sp.sparse.coo_matrix ((V, (I, J)))\n",
    "    \n",
    "    u = np.ones (x.shape)\n",
    "    \n",
    "    return w + k/d * (S.dot (u))"
   ]
  },
  {
   "cell_type": "code",
   "execution_count": null,
   "metadata": {
    "collapsed": false
   },
   "outputs": [],
   "source": [
    "n = 8\n",
    "SIGMA = 1.0\n",
    "N = n*n\n",
    "w = np.random.normal (scale=SIGMA, size=N)\n",
    "K = 0.1\n",
    "ALPHA = 1.0\n",
    "A_2d = gen_grid_graph (n)\n",
    "\n",
    "x_0 = np.zeros (N)\n",
    "print (\"x_0:\", x_0)\n",
    "print (\"F (x_0):\", F (x_0, A_2d, w, K, ALPHA))\n",
    "\n",
    "def F_ode (x, t, A, w, k, alpha):\n",
    "    return F (x, A, w, k, alpha)\n",
    "\n",
    "t_all = [0.0, 10.0]\n",
    "x_t = odeint (F_ode, x_0, t_all, args=(A_2d, w, K, ALPHA))\n",
    "print (\"x_t:\", x_t)\n",
    "plt.pcolor (np.reshape (x_t[1], (n, n)))\n",
    "plt.colorbar ()\n",
    "plt.axes().set_aspect('equal')"
   ]
  },
  {
   "cell_type": "code",
   "execution_count": null,
   "metadata": {
    "collapsed": false
   },
   "outputs": [],
   "source": [
    "n = 8\n",
    "SIGMA = 1.0\n",
    "N = n*n\n",
    "w = np.random.normal (scale=SIGMA, size=N)\n",
    "print (\"n:\", n)\n",
    "print (\"w:\", w)\n",
    "\n",
    "def sim (x_0, k, alpha, t):\n",
    "    t_all = np.array ([0.0, t])\n",
    "    x_t = odeint (F_ode, x_0, t_all, args=(A_2d, w, k, alpha))\n",
    "    return x_t[1]\n",
    "\n",
    "def isim (k=0.0, alpha=1.0, t=0.0):\n",
    "    x_t = sim (x_0, k, alpha, t)\n",
    "    plt.pcolor (np.reshape (x_t, (n, n)))\n",
    "    plt.colorbar ()\n",
    "    plt.axes().set_aspect('equal')\n",
    "    print (\"(k=%g, alpha=%g, t=%g) done!\" % (k, alpha, t))"
   ]
  },
  {
   "cell_type": "code",
   "execution_count": null,
   "metadata": {
    "collapsed": false
   },
   "outputs": [],
   "source": [
    "isim (0.0, alpha=1.0, t=10.0)"
   ]
  },
  {
   "cell_type": "code",
   "execution_count": null,
   "metadata": {
    "collapsed": false
   },
   "outputs": [],
   "source": [
    "from ipywidgets import interact\n",
    "interact (isim, k=(0.0, 10.0, 1.0), alpha=(0.1, 1.0, 0.1), t=(0.0, 10.0, 1.0)) ;"
   ]
  },
  {
   "cell_type": "markdown",
   "metadata": {},
   "source": [
    "**Exercise.** What do you observe as `k` increases from `0` to `10`?"
   ]
  },
  {
   "cell_type": "markdown",
   "metadata": {},
   "source": [
    "> Your answer here: @YOUSE"
   ]
  }
 ],
 "metadata": {
  "kernelspec": {
   "display_name": "Python 3",
   "language": "python",
   "name": "python3"
  },
  "language_info": {
   "codemirror_mode": {
    "name": "ipython",
    "version": 3
   },
   "file_extension": ".py",
   "mimetype": "text/x-python",
   "name": "python",
   "nbconvert_exporter": "python",
   "pygments_lexer": "ipython3",
   "version": "3.5.1"
  }
 },
 "nbformat": 4,
 "nbformat_minor": 0
}
