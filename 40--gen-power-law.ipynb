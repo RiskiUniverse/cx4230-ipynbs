{
 "cells": [
  {
   "cell_type": "markdown",
   "metadata": {},
   "source": [
    "# CX 4230, Spring 2016: [40] Generating power law distributions\n",
    "\n",
    "When studying dynamical systems on networks, we saw cases in which the structure of the graph played a role through the structure of the adjacency matrix as well as the _degree_ of every node. Thus, we might want to know how certain structures and _degree distributions_ arise.\n",
    "\n",
    "This notebook considers one such generative process, known as the _preferential attachment_ model. The model has been rediscovered several times; the variant considered here is due to [Barabási and Albert (1999)](http://science.sciencemag.org/content/286/5439/509)."
   ]
  },
  {
   "cell_type": "markdown",
   "metadata": {},
   "source": [
    "## Setup: A real-world network"
   ]
  },
  {
   "cell_type": "markdown",
   "metadata": {},
   "source": [
    "Let's start by downloading an engineered network system, namely, the graph corresponding to the topology of internet routers: https://snap.stanford.edu/data/as-skitter.html"
   ]
  },
  {
   "cell_type": "code",
   "execution_count": null,
   "metadata": {
    "collapsed": true
   },
   "outputs": [],
   "source": [
    "import random\n",
    "import numpy as np\n",
    "import scipy.sparse as sps"
   ]
  },
  {
   "cell_type": "code",
   "execution_count": null,
   "metadata": {
    "collapsed": false
   },
   "outputs": [],
   "source": [
    "import matplotlib.pyplot as plt\n",
    "%matplotlib inline"
   ]
  },
  {
   "cell_type": "code",
   "execution_count": null,
   "metadata": {
    "collapsed": false
   },
   "outputs": [],
   "source": [
    "import os\n",
    "if not os.path.exists ('nets/'):\n",
    "    os.makedirs ('nets/')\n",
    "    \n",
    "import urllib.request\n",
    "if not os.path.exists ('nets/as-skitter.zip'):\n",
    "    urllib.request.urlretrieve ('https://cx4230.gatech.edu/sp16/nets/as-skitter.zip',\n",
    "                                'nets/as-skitter.zip')"
   ]
  },
  {
   "cell_type": "code",
   "execution_count": null,
   "metadata": {
    "collapsed": false
   },
   "outputs": [],
   "source": [
    "import zipfile\n",
    "from collections import defaultdict\n",
    "\n",
    "def read_net (name, fn_zip=None, fn_net=None, verbose=True, force_undir=True):\n",
    "    if not fn_zip:\n",
    "        fn_zip = 'nets/%s.zip' % name\n",
    "    if not fn_net:\n",
    "        fn_net = '%s.txt' % name\n",
    "        \n",
    "    # Open zip archive\n",
    "    f_archive = zipfile.ZipFile (fn_zip, 'r') ; assert f_archive\n",
    "    \n",
    "    # Extract network file from archive as file-like object\n",
    "    f_net = f_archive.open (fn_net, 'r') ; assert f_net\n",
    "    \n",
    "    # Read header\n",
    "    line_num = 0\n",
    "    while f_net:\n",
    "        line_bytes = f_net.readline ()\n",
    "        if not line_bytes:\n",
    "            break\n",
    "        line_num += 1\n",
    "        \n",
    "        line_text = line_bytes.decode ('utf-8').strip ()\n",
    "        if line_text[0] == '#': # header line\n",
    "            if verbose:\n",
    "                print ('%d: %s' % (line_num, line_text))\n",
    "        else:\n",
    "            break\n",
    "            \n",
    "    # Network data follows as a list of vertex pairs.\n",
    "    I, J = [], []\n",
    "            \n",
    "    # EOF or first read line\n",
    "    while line_text:\n",
    "        fields = line_text.split (sep='\\t')\n",
    "        if len (fields) != 2:\n",
    "            print (\"*** Error reading line %d: '%s'\" % (line_num, line_text))\n",
    "            assert len (fields) == 2\n",
    "            \n",
    "        source, target = int (fields[0]), int (fields[1])\n",
    "        I.append (source) ; J.append (target)\n",
    "        if force_undir:\n",
    "            J.append (source) ; I.append (target)\n",
    "        \n",
    "        if not f_net: # EOF\n",
    "            break\n",
    "            \n",
    "        line_bytes = f_net.readline ()\n",
    "        if not line_bytes: # EOF\n",
    "            break\n",
    "            \n",
    "        line_num += 1\n",
    "        line_text = line_bytes.decode ('utf-8').strip ()\n",
    "            \n",
    "    # File cleanup\n",
    "    del f_net\n",
    "    del f_archive\n",
    "        \n",
    "    return I, J\n",
    "\n",
    "GRAPHNAME = 'as-skitter'\n",
    "I, J = read_net (GRAPHNAME)"
   ]
  },
  {
   "cell_type": "code",
   "execution_count": null,
   "metadata": {
    "collapsed": true
   },
   "outputs": [],
   "source": [
    "A_net = sps.coo_matrix (([1.0]*len (I), (I, J))).tocsr ()"
   ]
  },
  {
   "cell_type": "code",
   "execution_count": null,
   "metadata": {
    "collapsed": false
   },
   "outputs": [],
   "source": [
    "def spy (A, figsize=(7, 7), markersize=0.5):\n",
    "    fig = plt.figure (figsize=figsize)\n",
    "    plt.spy (A, markersize=markersize)\n",
    "    plt.show ()\n",
    "    \n",
    "# Render graph as sparse matrix\n",
    "spy (A_net)"
   ]
  },
  {
   "cell_type": "code",
   "execution_count": null,
   "metadata": {
    "collapsed": false,
    "scrolled": false
   },
   "outputs": [],
   "source": [
    "from collections import defaultdict\n",
    "from itertools import accumulate\n",
    "\n",
    "def degrees (A):\n",
    "    return np.squeeze (np.asarray (A.sum (axis=0)))\n",
    "\n",
    "def degree_dist (A):\n",
    "    sparse_hist = defaultdict (int)\n",
    "    for d in degrees (A):\n",
    "        sparse_hist[d] += 1\n",
    "    degs = sorted (sparse_hist.keys ())\n",
    "    counts = [sparse_hist[d] for d in degs]\n",
    "    return degs, counts\n",
    "\n",
    "def plot_degree_dist (A, cumulative=False, fig=None, figsize=(7, 7)):\n",
    "    degs, counts = degree_dist (A)\n",
    "    if cumulative:\n",
    "        total = sum (counts)\n",
    "        orig_counts = counts\n",
    "        for i, c in enumerate (accumulate (orig_counts)):\n",
    "            counts[i] = total - c\n",
    "    if not fig:\n",
    "        fig = plt.figure (figsize=figsize)\n",
    "        plt.axes().set_aspect('equal')\n",
    "    plt.loglog (degs, counts, '*')\n",
    "    plt.grid (True)\n",
    "    plt.xlabel (\"degree (log-scale)\")\n",
    "    plt.title (\"count (log-scale)\")"
   ]
  },
  {
   "cell_type": "code",
   "execution_count": null,
   "metadata": {
    "collapsed": false
   },
   "outputs": [],
   "source": [
    "plot_degree_dist (A_net)"
   ]
  },
  {
   "cell_type": "markdown",
   "metadata": {},
   "source": [
    "**Exercise.** What is the exponent of a power law distribution that might fit this data? That is, if $d$ is the degree, then for what $\\alpha$ does the data best fit a curve of the form $\\dfrac{1}{d^{\\alpha}}$?"
   ]
  },
  {
   "cell_type": "markdown",
   "metadata": {},
   "source": [
    "> Answer: @YOUSE"
   ]
  },
  {
   "cell_type": "markdown",
   "metadata": {},
   "source": [
    "## Preferential attachment model\n",
    "\n",
    "The preferential attachment model uses the following process to generate an _undirected_ network of $n$ vertices.\n",
    "\n",
    "Initially, the network has $n_0 < n$ vertices, numbered $\\{0, 1, ..., n_0-1\\}$ with no edges. Each of the remaining vertices is generated one at a time, starting at vertex $n_0$, according to the following process:\n",
    "\n",
    "1. Let $i$ denote the new vertex; at the start, $i=n_0$.\n",
    "2. Let the probability of choosing any vertex $j < i$ be proportional to $d_j$, where $d_j$ is the degree of vertex $j$.\n",
    "> Initially, since the first $n_0$ vertices have no edges, let the initial probabilities be uniform, i.e., the probability of choosing $j$ is just $1 / n_0$.\n",
    "3. Using this degree-weighted probability distribution, connect $i$ to exactly $c$ of the vertices less than $i$, chosen randomly without replacement."
   ]
  },
  {
   "cell_type": "markdown",
   "metadata": {},
   "source": [
    "**Exercise.** According to this process, how many edges will be produced?"
   ]
  },
  {
   "cell_type": "markdown",
   "metadata": {},
   "source": [
    "> Answer: @YOUSE"
   ]
  },
  {
   "cell_type": "code",
   "execution_count": null,
   "metadata": {
    "collapsed": true
   },
   "outputs": [],
   "source": [
    "N_INITIAL = 3 # Number of vertices, initially\n",
    "N_FINAL = 10000 # Number of vertices, finally\n",
    "C = 3 # Number of initial connections per new vertex\n",
    "\n",
    "assert N_FINAL > N_INITIAL\n",
    "assert C <= N_INITIAL"
   ]
  },
  {
   "cell_type": "markdown",
   "metadata": {},
   "source": [
    "**Exercise.** Simulate the preferential attachment process and see if the degree distribution matches. In particular, write some code to produce a sparse matrix `A` (in CSR format) that holds the adjacency matrix of a graph generated by a preferential attachment process. That is, $a_{ij} = 1$ if there is a _directed_ edge $(i, j)$, or 0 otherwise; and since the final graph should be undirected, $a_{ij} = 1$ means $a_{ji} = 1$, too.\n",
    "\n",
    "> Hint 1: You may find [`numpy.random.choice()`](http://docs.scipy.org/doc/numpy-1.10.0/reference/generated/numpy.random.choice.html) handy.\n",
    ">\n",
    "> Hint 2: Create a CSR matrix from row indices `row_ind[:]`, column indices `col_ind[:]`, and values `val[:]` using:\n",
    ">\n",
    ">     sps.coo_matrix ((vals, (row_ind, col_ind))).tocsr ()"
   ]
  },
  {
   "cell_type": "code",
   "execution_count": null,
   "metadata": {
    "collapsed": false
   },
   "outputs": [],
   "source": [
    "# Indices of all N_FINAL vertices\n",
    "vertices = np.arange (N_FINAL)\n",
    "\n",
    "# Create a network with M0 vertices\n",
    "degree = np.zeros (N_FINAL) # degree[i] = degree of vertex i\n",
    "prob = np.zeros (N_FINAL) # prob[i] = probability of linking to vertex i\n",
    "\n",
    "# Initially, let each of the initial vertices be equally likely\n",
    "prob[:N_INITIAL] = 1.0 / N_INITIAL\n",
    "\n",
    "# Maintain a list of directed edges, {(sources[k], targets[k])},\n",
    "# initially empty\n",
    "M_FINAL = (N_FINAL - N_INITIAL) * C * 2 # max number of edges\n",
    "sources = -np.ones (M_FINAL)\n",
    "targets = -np.ones (M_FINAL)\n",
    "edges = -np.ones ((M_FINAL, 2))\n",
    "\n",
    "m = 0 # number of edges so far\n",
    "for i in range (N_INITIAL, N_FINAL):\n",
    "    # @YOUSE: Fill in this code.\n",
    "    assert False\n",
    "        \n",
    "    # Suggested steps:\n",
    "    # 1. Generate neighbors -- see np.random.choice()\n",
    "    # 2. Record edges and update their number (m)\n",
    "    # 3. Update probabilities\n",
    "    \n",
    "val = np.ones (M_FINAL)\n",
    "A = sps.coo_matrix ((val, (sources, targets))).tocsr ()"
   ]
  },
  {
   "cell_type": "code",
   "execution_count": null,
   "metadata": {
    "collapsed": false
   },
   "outputs": [],
   "source": [
    "spy (A, markersize=1)"
   ]
  },
  {
   "cell_type": "code",
   "execution_count": null,
   "metadata": {
    "collapsed": false,
    "scrolled": false
   },
   "outputs": [],
   "source": [
    "plot_degree_dist (A)"
   ]
  },
  {
   "cell_type": "markdown",
   "metadata": {},
   "source": [
    "**Exercise.** Run the above for $n=10,000$. What is the exponent of the power law distribution that best fits this data?"
   ]
  },
  {
   "cell_type": "markdown",
   "metadata": {},
   "source": [
    "> Answer: @YOUSE"
   ]
  }
 ],
 "metadata": {
  "kernelspec": {
   "display_name": "Python 3",
   "language": "python",
   "name": "python3"
  },
  "language_info": {
   "codemirror_mode": {
    "name": "ipython",
    "version": 3
   },
   "file_extension": ".py",
   "mimetype": "text/x-python",
   "name": "python",
   "nbconvert_exporter": "python",
   "pygments_lexer": "ipython3",
   "version": "3.5.1"
  }
 },
 "nbformat": 4,
 "nbformat_minor": 0
}
