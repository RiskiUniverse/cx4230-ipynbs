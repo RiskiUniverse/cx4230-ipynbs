{
 "cells": [
  {
   "cell_type": "markdown",
   "metadata": {},
   "source": [
    "# CX 4230, Spring 2016: [28] Agent-based models\n",
    "\n",
    "Today's topic is agent-based modeling. This notebook walks you through an introductory example, which is the \"aggressor-defender\" model."
   ]
  },
  {
   "cell_type": "code",
   "execution_count": null,
   "metadata": {
    "collapsed": true
   },
   "outputs": [],
   "source": [
    "import numpy as np\n",
    "import scipy as sp"
   ]
  },
  {
   "cell_type": "code",
   "execution_count": null,
   "metadata": {
    "collapsed": false
   },
   "outputs": [],
   "source": [
    "import matplotlib.pyplot as plt\n",
    "%matplotlib inline"
   ]
  },
  {
   "cell_type": "markdown",
   "metadata": {},
   "source": [
    "Let's generate a set of `N` points, distributed uniformly at random in the 2-D domain $[0, 1.0] \\times [0, 1.0]$."
   ]
  },
  {
   "cell_type": "code",
   "execution_count": null,
   "metadata": {
    "collapsed": true
   },
   "outputs": [],
   "source": [
    "N = 10\n",
    "points_0 = np.random.uniform (low=0.0, high=1.0, size=(N, 2))"
   ]
  },
  {
   "cell_type": "code",
   "execution_count": null,
   "metadata": {
    "collapsed": false
   },
   "outputs": [],
   "source": [
    "IX, IY = 0, 1\n",
    "\n",
    "def plot_points (points):\n",
    "    fig = plt.figure (figsize=(6, 6))\n",
    "    ax = plt.subplot (111)\n",
    "    ax.scatter (points[:, IX], points[:, IY], s=100.0)\n",
    "    ax.axis ([0.0, 1.0, 0.0, 1.0])\n",
    "    return fig, ax\n",
    "\n",
    "plot_points (points_0) ;"
   ]
  },
  {
   "cell_type": "markdown",
   "metadata": {},
   "source": [
    "Consider an index set $I = \\{0, 1, 2, \\ldots, n-1\\}$. For each $i \\in I$, the following function selects a pair of \"partners\" $(a_i, b_i)$ where $a_i \\neq b_i$ and $a_i, b_i \\in I - \\{i\\}$."
   ]
  },
  {
   "cell_type": "code",
   "execution_count": null,
   "metadata": {
    "collapsed": false
   },
   "outputs": [],
   "source": [
    "def select_partners (n):\n",
    "    ids = np.arange (n)\n",
    "    partners = np.zeros ((n, 2), dtype=int)\n",
    "    for i in range (n):\n",
    "        # Swap out i\n",
    "        ids[i], ids[-1] = ids[-1], ids[i]\n",
    "        \n",
    "        # Select partners\n",
    "        partners[i, :] = np.random.choice (ids[:-1], 2, replace=False)\n",
    "        \n",
    "        # Swap i back in\n",
    "        ids[i], ids[-1] = ids[-1], ids[i]\n",
    "    return partners\n",
    "\n",
    "partners = select_partners (N)\n",
    "print (partners)"
   ]
  },
  {
   "cell_type": "markdown",
   "metadata": {},
   "source": [
    "**Exercise.** Complete the function, `step_chicken()`, which implements the \"chicken\" behavior. That is, consider a point $i$ whose partners are $(a_i, b_i)$. When $i$ is a chicken, then $a_i$ is the \"aggressor\" and $b_i$ is the \"defender\"; $i$ tries to move itself so that $b_i$ is between it and $a_i$."
   ]
  },
  {
   "cell_type": "code",
   "execution_count": null,
   "metadata": {
    "collapsed": false
   },
   "outputs": [],
   "source": [
    "DELTA_T = 0.05 # Some \"time-step\" constant\n",
    "\n",
    "def wrap (points):\n",
    "    n = len (points)\n",
    "    for i in range (n):\n",
    "        if points[i, 0] < 0:\n",
    "            points[i, 0] += 1.0\n",
    "        elif points[i, 0] > 1.0:\n",
    "            points[i, 0] -= 1.0\n",
    "        if points[i, 1] < 0:\n",
    "            points[i, 1] += 1.0\n",
    "        elif points[i, 1] > 1.0:\n",
    "            points[i, 1] -= 1.0\n",
    "        \n",
    "def step_chicken (points, partners, dt=DELTA_T):\n",
    "    n = len (points)\n",
    "    points_new = np.zeros (points.shape)\n",
    "    for i in range (n):\n",
    "        a = partners[i, 0] # aggressor\n",
    "        d = partners[i, 1] # defender\n",
    "        \n",
    "        # @YOUSE: Compute the \"velocity\" v of point i\n",
    "        v = ...\n",
    "        \n",
    "        points_new[i, :] = points[i, :] + dt*v\n",
    "        \n",
    "    # Wraparound boundaries\n",
    "    wrap (points_new)\n",
    "    return points_new\n",
    "\n",
    "points_1 = step_chicken (points_0, partners)\n",
    "plot_points (points_1)"
   ]
  },
  {
   "cell_type": "code",
   "execution_count": null,
   "metadata": {
    "collapsed": false
   },
   "outputs": [],
   "source": [
    "from ipywidgets import interact\n",
    "\n",
    "def isim (t_max=1):\n",
    "    points_t = np.copy (points_0)\n",
    "    for t in range (t_max):\n",
    "        points_t = step_chicken (points_t, partners)\n",
    "    plot_points (points_t)\n",
    "\n",
    "interact (isim, t_max=(1, 1000, 1)) ;"
   ]
  },
  {
   "cell_type": "markdown",
   "metadata": {},
   "source": [
    "**Exercise.** Now implement the \"defender\" behavior. That is, let $i$ be a defender point whose partners are $(a_i, b_i)$. Then $a_i$ is the aggressor, $b_i$ is the chicken, and $i$ will try to move toward the center of $a_i$ and $b_i$."
   ]
  },
  {
   "cell_type": "code",
   "execution_count": null,
   "metadata": {
    "collapsed": false
   },
   "outputs": [],
   "source": [
    "def step_defender (points, partners, dt=DELTA_T):\n",
    "    n = len (points)\n",
    "    points_new = np.zeros (points.shape)\n",
    "    for i in range (n):\n",
    "        a = partners[i, 0] # aggressor\n",
    "        c = partners[i, 1] # chicken\n",
    "        \n",
    "        # @YOUSE: Compute a \"velocity\" v for the defender i\n",
    "        v = ...\n",
    "        \n",
    "        points_new[i, :] = points[i, :] + dt*v\n",
    "        \n",
    "    # Wraparound boundaries\n",
    "    wrap (points_new)\n",
    "    return points_new\n",
    "\n",
    "points_1 = step_defender (points_0, partners)\n",
    "plot_points (points_1)"
   ]
  },
  {
   "cell_type": "code",
   "execution_count": null,
   "metadata": {
    "collapsed": false
   },
   "outputs": [],
   "source": [
    "from ipywidgets import interact\n",
    "\n",
    "def isim (t_max=1):\n",
    "    points_t = np.copy (points_0)\n",
    "    for t in range (t_max):\n",
    "        points_t = step_defender (points_t, partners)\n",
    "    plot_points (points_t)\n",
    "\n",
    "interact (isim, t_max=(1, 1000, 1)) ;"
   ]
  },
  {
   "cell_type": "markdown",
   "metadata": {
    "collapsed": true
   },
   "source": [
    "For a more dynamic demo of this simple model, see [The Game](http://www.icosystem.com/labsdemos/the-game/)."
   ]
  }
 ],
 "metadata": {
  "kernelspec": {
   "display_name": "Python 3",
   "language": "python",
   "name": "python3"
  },
  "language_info": {
   "codemirror_mode": {
    "name": "ipython",
    "version": 3
   },
   "file_extension": ".py",
   "mimetype": "text/x-python",
   "name": "python",
   "nbconvert_exporter": "python",
   "pygments_lexer": "ipython3",
   "version": "3.5.1"
  }
 },
 "nbformat": 4,
 "nbformat_minor": 0
}
